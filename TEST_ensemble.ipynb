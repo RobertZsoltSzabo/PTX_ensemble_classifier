{
 "cells": [
  {
   "cell_type": "code",
   "execution_count": 1,
   "metadata": {},
   "outputs": [
    {
     "name": "stderr",
     "output_type": "stream",
     "text": [
      "c:\\Users\\szabo\\anaconda3\\envs\\lung_us\\Lib\\site-packages\\tqdm\\auto.py:21: TqdmWarning: IProgress not found. Please update jupyter and ipywidgets. See https://ipywidgets.readthedocs.io/en/stable/user_install.html\n",
      "  from .autonotebook import tqdm as notebook_tqdm\n",
      "c:\\Users\\szabo\\anaconda3\\envs\\lung_us\\Lib\\site-packages\\timm\\models\\_factory.py:114: UserWarning: Mapping deprecated model name xception to current legacy_xception.\n",
      "  model = create_fn(\n"
     ]
    }
   ],
   "source": [
    "import torch\n",
    "from matplotlib import pyplot as plt\n",
    "import timm\n",
    "\n",
    "model_names = ['resnet50', 'inception_v3', 'inception_resnet_v2', 'xception', 'vgg16']\n",
    "timm_models = [timm.create_model(model, pretrained=True, num_classes=3, drop_rate=0.5) for model in model_names]"
   ]
  },
  {
   "cell_type": "code",
   "execution_count": null,
   "metadata": {},
   "outputs": [],
   "source": [
    "class EnsembleClassifier(torch.nn.Module):\n",
    "    def __init__(self, models):\n",
    "        super().__init__()\n",
    "        self.models = models\n",
    "        self.softmax = torch.nn.Softmax(dim=1)\n",
    "    \n",
    "    def forward(self, x):\n",
    "        preds = [self.softmax(model(x)) for model in self.models]\n",
    "        return torch.stack(preds).mean(0).round()"
   ]
  }
 ],
 "metadata": {
  "kernelspec": {
   "display_name": "lung_us",
   "language": "python",
   "name": "python3"
  },
  "language_info": {
   "codemirror_mode": {
    "name": "ipython",
    "version": 3
   },
   "file_extension": ".py",
   "mimetype": "text/x-python",
   "name": "python",
   "nbconvert_exporter": "python",
   "pygments_lexer": "ipython3",
   "version": "3.11.5"
  }
 },
 "nbformat": 4,
 "nbformat_minor": 2
}
