{
 "cells": [
  {
   "cell_type": "code",
   "execution_count": 1,
   "metadata": {},
   "outputs": [
    {
     "name": "stderr",
     "output_type": "stream",
     "text": [
      "c:\\Users\\szabo\\anaconda3\\envs\\lung_us\\Lib\\site-packages\\tqdm\\auto.py:21: TqdmWarning: IProgress not found. Please update jupyter and ipywidgets. See https://ipywidgets.readthedocs.io/en/stable/user_install.html\n",
      "  from .autonotebook import tqdm as notebook_tqdm\n"
     ]
    }
   ],
   "source": [
    "import torch\n",
    "import timm\n",
    "import wandb\n",
    "from tqdm.auto import tqdm\n",
    "from torchvision.datasets import ImageFolder\n",
    "from torchvision.transforms import ToTensor, Compose, Resize, Normalize, CenterCrop\n",
    "from torch.utils.data import DataLoader\n",
    "\n",
    "\n",
    "RESIZED_SIZE = 256\n",
    "TRAIN_ROOT = 'd:/Data/PTX/train'\n",
    "VAL_ROOT = 'd:/Data/PTX/validation'\n",
    "BATCH_SIZE = 32\n",
    "DEVICE = torch.device('cuda' if torch.cuda.is_available() else 'cpu')\n",
    "\n",
    "transforms = Compose([\n",
    "    ToTensor(),\n",
    "    Resize(size=(RESIZED_SIZE, RESIZED_SIZE), antialias=True),\n",
    "    CenterCrop(size=(RESIZED_SIZE, RESIZED_SIZE))\n",
    "])\n",
    "\n",
    "train_dataset = ImageFolder(root=TRAIN_ROOT, transform=transforms)\n",
    "val_dataset = ImageFolder(root=VAL_ROOT, transform=transforms)\n",
    "\n",
    "train_dataloader = DataLoader(dataset=train_dataset,\n",
    "                              batch_size=BATCH_SIZE,\n",
    "                              shuffle=True,\n",
    "                              )\n",
    "\n",
    "val_dataloader = DataLoader(dataset=val_dataset,\n",
    "                            batch_size=BATCH_SIZE,\n",
    "                            shuffle=False)\n"
   ]
  },
  {
   "cell_type": "code",
   "execution_count": 7,
   "metadata": {},
   "outputs": [
    {
     "data": {
      "text/plain": [
       "3"
      ]
     },
     "execution_count": 7,
     "metadata": {},
     "output_type": "execute_result"
    }
   ],
   "source": []
  },
  {
   "cell_type": "code",
   "execution_count": 2,
   "metadata": {},
   "outputs": [],
   "source": [
    "def train(model, train_dataloader, val_dataloader, loss_fn, optimizer, epochs=10, device='cpu', log_experiment=True):\n",
    "    if log_experiment:\n",
    "        val_loss_history = []\n",
    "        val_acc_history = []\n",
    "        artifact = wandb.Artifact('weights', type='model')\n",
    "        \n",
    "        run = wandb.init(\n",
    "            project=\"PTX\",\n",
    "            config={\n",
    "                \"model\": model_name,\n",
    "                \"epochs\": epochs,\n",
    "                \"batch_size\": BATCH_SIZE,\n",
    "                \"droupout\": DROPOUT_RATE,\n",
    "                \"learning_rate\": LEARNING_RATE,\n",
    "                \"training_image_size\": RESIZED_SIZE\n",
    "            })\n",
    "    \n",
    "    for epoch in tqdm(range(epochs)):\n",
    "        print(f'Epoch {epoch+1}\\n-------------------------------')\n",
    "        train_loss, train_acc = train_epoch(model, train_dataloader, loss_fn, optimizer, device)\n",
    "        print(f'train_loss: {train_loss:.4f}, train_acc: {train_acc:.4f}')\n",
    "        val_loss, val_acc = test_epoch(model, val_dataloader, loss_fn, device)\n",
    "        print(f'val_loss: {val_loss:.4f}, val_acc: {val_acc:.4f}')\n",
    "        if log_experiment:\n",
    "            val_loss_history.append(val_loss)\n",
    "            val_acc_history.append(val_acc)\n",
    "\n",
    "            if val_acc == max(val_acc_history) and val_loss == min(val_loss_history):\n",
    "                torch.save(model.state_dict(), 'best.pt')            \n",
    "\n",
    "            wandb.log({'train_loss': train_loss, 'train_acc': train_acc, 'val_loss': val_loss, 'val_acc': val_acc})\n",
    "    \n",
    "    \n",
    "    torch.save(model.state_dict(), 'last.pt')\n",
    "\n",
    "    if log_experiment:\n",
    "        artifact.add_file('last.pt')\n",
    "        artifact.add_file('best.pt')\n",
    "        artifact.save()\n",
    "        run.log_artifact(artifact)\n",
    "        run.finish()\n",
    "\n",
    "\n",
    "def train_epoch(model, dataloader, loss_fn, optimizer, device):\n",
    "    size = len(dataloader.dataset)\n",
    "    model.train()\n",
    "    train_loss, correct = 0, 0\n",
    "    for batch, (X, y) in enumerate(dataloader):\n",
    "        X, y = X.to(device), y.to(device)\n",
    "        pred = model(X)\n",
    "        loss = loss_fn(pred, y)\n",
    "        optimizer.zero_grad()\n",
    "        loss.backward()\n",
    "        optimizer.step()\n",
    "        train_loss += loss.item()\n",
    "        correct += (pred.argmax(1) == y).type(torch.float).sum().item()\n",
    "    train_loss /= size\n",
    "    correct /= size\n",
    "    return train_loss, correct\n",
    "\n",
    "def test_epoch(model, dataloader, loss_fn, device):\n",
    "    size = len(dataloader.dataset)\n",
    "    model.eval()\n",
    "    test_loss, correct = 0, 0\n",
    "    with torch.no_grad():\n",
    "        for X, y in dataloader:\n",
    "            X, y = X.to(device), y.to(device)\n",
    "            pred = model(X)\n",
    "            test_loss += loss_fn(pred, y).item()\n",
    "            correct += (pred.argmax(1) == y).type(torch.float).sum().item()\n",
    "    test_loss /= size\n",
    "    correct /= size\n",
    "    return test_loss, correct\n",
    "\n",
    "def crossvalidate_all_models(models, folds, dataset, loss_fn, lr, epochs=10, device='cpu', log_experiment=True):\n",
    "    print(f'Starting k-fold cross validation for {epochs} epochs')\n",
    "    total_size = len(dataset)\n",
    "    split_size = total_size // folds\n",
    "\n",
    "    for model in models:\n",
    "        print(f'Cross validating {model.__class__.__name__}')\n",
    "        for fold_nr in range(folds):            \n",
    "            train_dataset, val_dataset = torch.utils.data.random_split(train_dataset, [total_size - split_size, split_size])\n",
    "\n",
    "            train_dataloader = DataLoader(dataset=train_dataset,\n",
    "                                          batch_size=BATCH_SIZE,\n",
    "                                          shuffle=True)\n",
    "\n",
    "            val_dataloader = DataLoader(dataset=val_dataset,\n",
    "                                        batch_size=BATCH_SIZE,\n",
    "                                        shuffle=False)\n",
    "\n",
    "            optimizer = torch.optim.Adam(model.parameters(), lr=lr)\n",
    "            train(model=model.to(device),\n",
    "                train_dataloader=train_dataloader,\n",
    "                val_dataloader=val_dataloader,\n",
    "                loss_fn=loss_fn,\n",
    "                optimizer=optimizer,\n",
    "                epochs=epochs,\n",
    "                device=device,\n",
    "                log_experiment=log_experiment)\n",
    "\n",
    "def train_all_models(models, train_dataset, val_dataloader, loss_fn, lr, epochs=10, device='cpu', log_experiment=True):\n",
    "    print(f'Starting ensemble model training for {epochs} epochs')\n",
    "    for model in models:\n",
    "        print(f'Training {model.__class__.__name__}')\n",
    "        optimizer = torch.optim.Adam(model.parameters(), lr=lr)\n",
    "        train(model=model.to(device),\n",
    "              train_dataloader=train_dataloader,\n",
    "              val_dataloader=val_dataloader,\n",
    "              loss_fn=loss_fn,\n",
    "              optimizer=optimizer,\n",
    "              epochs=epochs,\n",
    "              device=device,\n",
    "              log_experiment=log_experiment)"
   ]
  },
  {
   "cell_type": "code",
   "execution_count": 3,
   "metadata": {},
   "outputs": [],
   "source": [
    "#Validates a model on val_dataloader, and displays the results\n",
    "def validate(model, val_dataloader, device='cpu'):\n",
    "    loss_fn = torch.nn.CrossEntropyLoss()\n",
    "    loss, acc = test_epoch(model, val_dataloader, loss_fn, device)\n",
    "    print(f'loss: {loss:.4f}, acc: {acc:.4f}')\n",
    "    return loss, acc"
   ]
  },
  {
   "cell_type": "code",
   "execution_count": 4,
   "metadata": {},
   "outputs": [
    {
     "name": "stderr",
     "output_type": "stream",
     "text": [
      "c:\\Users\\szabo\\anaconda3\\envs\\lung_us\\Lib\\site-packages\\timm\\models\\_factory.py:114: UserWarning: Mapping deprecated model name xception to current legacy_xception.\n",
      "  model = create_fn(\n"
     ]
    }
   ],
   "source": [
    "model_names = ['resnet50', 'inception_v3', 'inception_resnet_v2', 'xception', 'vgg16']\n",
    "n_classes = 3\n",
    "DROPOUT_RATE = 0.5\n",
    "\n",
    "timm_models = [timm.create_model(model_name,\n",
    "                                 pretrained=True,\n",
    "                                 num_classes=n_classes,\n",
    "                                 drop_rate=DROPOUT_RATE) for model_name in model_names]\n",
    "\n",
    "for model in timm_models:\n",
    "    model.reset_classifier(3, 'max')"
   ]
  },
  {
   "cell_type": "code",
   "execution_count": 13,
   "metadata": {},
   "outputs": [
    {
     "name": "stdout",
     "output_type": "stream",
     "text": [
      "Starting ensemble model training for 15 epochs\n",
      "Training NoneType\n"
     ]
    },
    {
     "ename": "AttributeError",
     "evalue": "'NoneType' object has no attribute 'parameters'",
     "output_type": "error",
     "traceback": [
      "\u001b[1;31m---------------------------------------------------------------------------\u001b[0m",
      "\u001b[1;31mAttributeError\u001b[0m                            Traceback (most recent call last)",
      "\u001b[1;32md:\\Repos\\PTX_ensemble_classifier\\TEST_train.ipynb Cell 5\u001b[0m line \u001b[0;36m6\n\u001b[0;32m      <a href='vscode-notebook-cell:/d%3A/Repos/PTX_ensemble_classifier/TEST_train.ipynb#W4sZmlsZQ%3D%3D?line=2'>3</a>\u001b[0m loss_fn \u001b[39m=\u001b[39m torch\u001b[39m.\u001b[39mnn\u001b[39m.\u001b[39mCrossEntropyLoss()\n\u001b[0;32m      <a href='vscode-notebook-cell:/d%3A/Repos/PTX_ensemble_classifier/TEST_train.ipynb#W4sZmlsZQ%3D%3D?line=3'>4</a>\u001b[0m log \u001b[39m=\u001b[39m \u001b[39mTrue\u001b[39;00m\n\u001b[1;32m----> <a href='vscode-notebook-cell:/d%3A/Repos/PTX_ensemble_classifier/TEST_train.ipynb#W4sZmlsZQ%3D%3D?line=5'>6</a>\u001b[0m train_all_models(models\u001b[39m=\u001b[39;49mtimm_models,\n\u001b[0;32m      <a href='vscode-notebook-cell:/d%3A/Repos/PTX_ensemble_classifier/TEST_train.ipynb#W4sZmlsZQ%3D%3D?line=6'>7</a>\u001b[0m                  train_dataloader\u001b[39m=\u001b[39;49mtrain_dataloader,\n\u001b[0;32m      <a href='vscode-notebook-cell:/d%3A/Repos/PTX_ensemble_classifier/TEST_train.ipynb#W4sZmlsZQ%3D%3D?line=7'>8</a>\u001b[0m                  val_dataloader\u001b[39m=\u001b[39;49mval_dataloader,\n\u001b[0;32m      <a href='vscode-notebook-cell:/d%3A/Repos/PTX_ensemble_classifier/TEST_train.ipynb#W4sZmlsZQ%3D%3D?line=8'>9</a>\u001b[0m                  loss_fn\u001b[39m=\u001b[39;49mtorch\u001b[39m.\u001b[39;49mnn\u001b[39m.\u001b[39;49mCrossEntropyLoss(),\n\u001b[0;32m     <a href='vscode-notebook-cell:/d%3A/Repos/PTX_ensemble_classifier/TEST_train.ipynb#W4sZmlsZQ%3D%3D?line=9'>10</a>\u001b[0m                  lr\u001b[39m=\u001b[39;49mLEARNING_RATE,\n\u001b[0;32m     <a href='vscode-notebook-cell:/d%3A/Repos/PTX_ensemble_classifier/TEST_train.ipynb#W4sZmlsZQ%3D%3D?line=10'>11</a>\u001b[0m                  epochs\u001b[39m=\u001b[39;49mEPOCHS,\n\u001b[0;32m     <a href='vscode-notebook-cell:/d%3A/Repos/PTX_ensemble_classifier/TEST_train.ipynb#W4sZmlsZQ%3D%3D?line=11'>12</a>\u001b[0m                  device\u001b[39m=\u001b[39;49mDEVICE,\n\u001b[0;32m     <a href='vscode-notebook-cell:/d%3A/Repos/PTX_ensemble_classifier/TEST_train.ipynb#W4sZmlsZQ%3D%3D?line=12'>13</a>\u001b[0m                  log_experiment\u001b[39m=\u001b[39;49mlog)\n",
      "\u001b[1;32md:\\Repos\\PTX_ensemble_classifier\\TEST_train.ipynb Cell 5\u001b[0m line \u001b[0;36m7\n\u001b[0;32m     <a href='vscode-notebook-cell:/d%3A/Repos/PTX_ensemble_classifier/TEST_train.ipynb#W4sZmlsZQ%3D%3D?line=76'>77</a>\u001b[0m \u001b[39mfor\u001b[39;00m model \u001b[39min\u001b[39;00m models:\n\u001b[0;32m     <a href='vscode-notebook-cell:/d%3A/Repos/PTX_ensemble_classifier/TEST_train.ipynb#W4sZmlsZQ%3D%3D?line=77'>78</a>\u001b[0m     \u001b[39mprint\u001b[39m(\u001b[39mf\u001b[39m\u001b[39m'\u001b[39m\u001b[39mTraining \u001b[39m\u001b[39m{\u001b[39;00mmodel\u001b[39m.\u001b[39m\u001b[39m__class__\u001b[39m\u001b[39m.\u001b[39m\u001b[39m__name__\u001b[39m\u001b[39m}\u001b[39;00m\u001b[39m'\u001b[39m)\n\u001b[1;32m---> <a href='vscode-notebook-cell:/d%3A/Repos/PTX_ensemble_classifier/TEST_train.ipynb#W4sZmlsZQ%3D%3D?line=78'>79</a>\u001b[0m     optimizer \u001b[39m=\u001b[39m torch\u001b[39m.\u001b[39moptim\u001b[39m.\u001b[39mAdam(model\u001b[39m.\u001b[39;49mparameters(), lr\u001b[39m=\u001b[39mlr)\n\u001b[0;32m     <a href='vscode-notebook-cell:/d%3A/Repos/PTX_ensemble_classifier/TEST_train.ipynb#W4sZmlsZQ%3D%3D?line=79'>80</a>\u001b[0m     train(model\u001b[39m=\u001b[39mmodel\u001b[39m.\u001b[39mto(device),\n\u001b[0;32m     <a href='vscode-notebook-cell:/d%3A/Repos/PTX_ensemble_classifier/TEST_train.ipynb#W4sZmlsZQ%3D%3D?line=80'>81</a>\u001b[0m           train_dataloader\u001b[39m=\u001b[39mtrain_dataloader,\n\u001b[0;32m     <a href='vscode-notebook-cell:/d%3A/Repos/PTX_ensemble_classifier/TEST_train.ipynb#W4sZmlsZQ%3D%3D?line=81'>82</a>\u001b[0m           val_dataloader\u001b[39m=\u001b[39mval_dataloader,\n\u001b[1;32m   (...)\u001b[0m\n\u001b[0;32m     <a href='vscode-notebook-cell:/d%3A/Repos/PTX_ensemble_classifier/TEST_train.ipynb#W4sZmlsZQ%3D%3D?line=85'>86</a>\u001b[0m           device\u001b[39m=\u001b[39mdevice,\n\u001b[0;32m     <a href='vscode-notebook-cell:/d%3A/Repos/PTX_ensemble_classifier/TEST_train.ipynb#W4sZmlsZQ%3D%3D?line=86'>87</a>\u001b[0m           log_experiment\u001b[39m=\u001b[39mlog_experiment)\n",
      "\u001b[1;31mAttributeError\u001b[0m: 'NoneType' object has no attribute 'parameters'"
     ]
    }
   ],
   "source": [
    "EPOCHS = 15\n",
    "LEARNING_RATE = 1e-4\n",
    "loss_fn = torch.nn.CrossEntropyLoss()\n",
    "log = True\n",
    "\n",
    "train_all_models(models=timm_models,\n",
    "                 train_dataloader=train_dataloader,\n",
    "                 val_dataloader=val_dataloader,\n",
    "                 loss_fn=torch.nn.CrossEntropyLoss(),\n",
    "                 lr=LEARNING_RATE,\n",
    "                 epochs=EPOCHS,\n",
    "                 device=DEVICE,\n",
    "                 log_experiment=log)"
   ]
  },
  {
   "cell_type": "code",
   "execution_count": 6,
   "metadata": {},
   "outputs": [
    {
     "name": "stderr",
     "output_type": "stream",
     "text": [
      "  0%|          | 0/15 [00:00<?, ?it/s]"
     ]
    },
    {
     "name": "stdout",
     "output_type": "stream",
     "text": [
      "Epoch 1\n",
      "-------------------------------\n",
      "train_loss: 0.0237, train_acc: 0.7139\n"
     ]
    },
    {
     "name": "stderr",
     "output_type": "stream",
     "text": [
      "  7%|▋         | 1/15 [00:13<03:03, 13.13s/it]"
     ]
    },
    {
     "name": "stdout",
     "output_type": "stream",
     "text": [
      "val_loss: 0.0310, val_acc: 0.6389\n",
      "Epoch 2\n",
      "-------------------------------\n",
      "train_loss: 0.0124, train_acc: 0.8617\n"
     ]
    },
    {
     "name": "stderr",
     "output_type": "stream",
     "text": [
      " 13%|█▎        | 2/15 [00:23<02:28, 11.46s/it]"
     ]
    },
    {
     "name": "stdout",
     "output_type": "stream",
     "text": [
      "val_loss: 0.0205, val_acc: 0.7500\n",
      "Epoch 3\n",
      "-------------------------------\n",
      "train_loss: 0.0082, train_acc: 0.9066\n"
     ]
    },
    {
     "name": "stderr",
     "output_type": "stream",
     "text": [
      " 20%|██        | 3/15 [00:33<02:11, 10.92s/it]"
     ]
    },
    {
     "name": "stdout",
     "output_type": "stream",
     "text": [
      "val_loss: 0.0068, val_acc: 0.9306\n",
      "Epoch 4\n",
      "-------------------------------\n",
      "train_loss: 0.0084, train_acc: 0.9031\n"
     ]
    },
    {
     "name": "stderr",
     "output_type": "stream",
     "text": [
      " 27%|██▋       | 4/15 [00:44<01:57, 10.68s/it]"
     ]
    },
    {
     "name": "stdout",
     "output_type": "stream",
     "text": [
      "val_loss: 0.0044, val_acc: 0.9583\n",
      "Epoch 5\n",
      "-------------------------------\n",
      "train_loss: 0.0087, train_acc: 0.8995\n"
     ]
    },
    {
     "name": "stderr",
     "output_type": "stream",
     "text": [
      " 33%|███▎      | 5/15 [00:54<01:45, 10.53s/it]"
     ]
    },
    {
     "name": "stdout",
     "output_type": "stream",
     "text": [
      "val_loss: 0.0016, val_acc: 0.9722\n",
      "Epoch 6\n",
      "-------------------------------\n",
      "train_loss: 0.0073, train_acc: 0.9137\n"
     ]
    },
    {
     "name": "stderr",
     "output_type": "stream",
     "text": [
      " 40%|████      | 6/15 [01:04<01:34, 10.49s/it]"
     ]
    },
    {
     "name": "stdout",
     "output_type": "stream",
     "text": [
      "val_loss: 0.0009, val_acc: 1.0000\n",
      "Epoch 7\n",
      "-------------------------------\n",
      "train_loss: 0.0115, train_acc: 0.8972\n"
     ]
    },
    {
     "name": "stderr",
     "output_type": "stream",
     "text": [
      " 47%|████▋     | 7/15 [01:14<01:23, 10.42s/it]"
     ]
    },
    {
     "name": "stdout",
     "output_type": "stream",
     "text": [
      "val_loss: 0.0017, val_acc: 0.9722\n",
      "Epoch 8\n",
      "-------------------------------\n",
      "train_loss: 0.0079, train_acc: 0.9137\n"
     ]
    },
    {
     "name": "stderr",
     "output_type": "stream",
     "text": [
      " 53%|█████▎    | 8/15 [01:25<01:12, 10.42s/it]"
     ]
    },
    {
     "name": "stdout",
     "output_type": "stream",
     "text": [
      "val_loss: 0.0014, val_acc: 0.9722\n",
      "Epoch 9\n",
      "-------------------------------\n",
      "train_loss: 0.0072, train_acc: 0.9267\n"
     ]
    },
    {
     "name": "stderr",
     "output_type": "stream",
     "text": [
      " 60%|██████    | 9/15 [01:35<01:02, 10.40s/it]"
     ]
    },
    {
     "name": "stdout",
     "output_type": "stream",
     "text": [
      "val_loss: 0.0051, val_acc: 0.9444\n",
      "Epoch 10\n",
      "-------------------------------\n",
      "train_loss: 0.0074, train_acc: 0.9255\n"
     ]
    },
    {
     "name": "stderr",
     "output_type": "stream",
     "text": [
      " 67%|██████▋   | 10/15 [01:46<00:52, 10.42s/it]"
     ]
    },
    {
     "name": "stdout",
     "output_type": "stream",
     "text": [
      "val_loss: 0.0014, val_acc: 0.9722\n",
      "Epoch 11\n",
      "-------------------------------\n",
      "train_loss: 0.0060, train_acc: 0.9267\n"
     ]
    },
    {
     "name": "stderr",
     "output_type": "stream",
     "text": [
      " 73%|███████▎  | 11/15 [01:56<00:41, 10.49s/it]"
     ]
    },
    {
     "name": "stdout",
     "output_type": "stream",
     "text": [
      "val_loss: 0.0090, val_acc: 0.9167\n",
      "Epoch 12\n",
      "-------------------------------\n",
      "train_loss: 0.0097, train_acc: 0.9102\n"
     ]
    },
    {
     "name": "stderr",
     "output_type": "stream",
     "text": [
      " 80%|████████  | 12/15 [02:07<00:31, 10.54s/it]"
     ]
    },
    {
     "name": "stdout",
     "output_type": "stream",
     "text": [
      "val_loss: 0.0015, val_acc: 0.9861\n",
      "Epoch 13\n",
      "-------------------------------\n",
      "train_loss: 0.0117, train_acc: 0.9031\n"
     ]
    },
    {
     "name": "stderr",
     "output_type": "stream",
     "text": [
      " 87%|████████▋ | 13/15 [02:18<00:21, 10.55s/it]"
     ]
    },
    {
     "name": "stdout",
     "output_type": "stream",
     "text": [
      "val_loss: 0.0022, val_acc: 0.9722\n",
      "Epoch 14\n",
      "-------------------------------\n",
      "train_loss: 0.0068, train_acc: 0.9267\n"
     ]
    },
    {
     "name": "stderr",
     "output_type": "stream",
     "text": [
      " 93%|█████████▎| 14/15 [02:28<00:10, 10.55s/it]"
     ]
    },
    {
     "name": "stdout",
     "output_type": "stream",
     "text": [
      "val_loss: 0.0041, val_acc: 0.9306\n",
      "Epoch 15\n",
      "-------------------------------\n",
      "train_loss: 0.0061, train_acc: 0.9314\n"
     ]
    },
    {
     "name": "stderr",
     "output_type": "stream",
     "text": [
      "100%|██████████| 15/15 [02:39<00:00, 10.63s/it]"
     ]
    },
    {
     "name": "stdout",
     "output_type": "stream",
     "text": [
      "val_loss: 0.0018, val_acc: 0.9722\n"
     ]
    },
    {
     "name": "stderr",
     "output_type": "stream",
     "text": [
      "\n"
     ]
    }
   ],
   "source": [
    "EPOCHS = 15\n",
    "LEARNING_RATE = 1e-4\n",
    "loss_fn = torch.nn.CrossEntropyLoss()\n",
    "model = feature_extractor_resnet.to(DEVICE)\n",
    "log = False\n",
    "\n",
    "\n",
    "train(model=model,\n",
    "      train_dataloader=train_dataloader,\n",
    "      val_dataloader=val_dataloader,\n",
    "      loss_fn=loss_fn,\n",
    "      optimizer=torch.optim.Adam(model.parameters(), lr=LEARNING_RATE),\n",
    "      epochs=EPOCHS,\n",
    "      device=DEVICE,\n",
    "      log_experiment=log)"
   ]
  },
  {
   "cell_type": "code",
   "execution_count": 5,
   "metadata": {},
   "outputs": [],
   "source": [
    "def gradcam_overlay(image, gradcam, colormap='jet', opacity=0.2):\n",
    "    plt.imshow(image, cmap='gray')\n",
    "    plt.imshow(gradcam, cmap=colormap, alpha=opacity)"
   ]
  },
  {
   "cell_type": "code",
   "execution_count": 6,
   "metadata": {},
   "outputs": [
    {
     "name": "stdout",
     "output_type": "stream",
     "text": [
      "Loaded resnet50 successfully\n",
      "Loaded xception successfully\n",
      "Loaded inception_v3 successfully\n",
      "Loaded inception_resnet_v2 successfully\n",
      "Loaded vgg16 successfully\n"
     ]
    }
   ],
   "source": [
    "model_names = ['resnet50', 'xception', 'inception_v3', 'inception_resnet_v2', 'vgg16']\n",
    "model_weights = [f'weights/{model_name}.pt' for model_name in model_names]\n",
    "model_target_layers = ['layer4.2.act3', 'act4', 'Mixed_7c.branch_pool.bn.act', 'conv2d_7b.bn.act', 'features.29']\n",
    "\n",
    "models = [timm.create_model(model_name,\n",
    "                            pretrained=True,\n",
    "                            num_classes=3,\n",
    "                            drop_rate=0.5) for model_name in model_names]\n",
    "\n",
    "for i, model in enumerate(models):\n",
    "    model.load_state_dict(torch.load(model_weights[i]))\n",
    "    print(f'Loaded {model_names[i]} successfully')"
   ]
  },
  {
   "cell_type": "code",
   "execution_count": null,
   "metadata": {},
   "outputs": [],
   "source": [
    "from matplotlib import pyplot as plt\n",
    "import numpy as np\n",
    "from monai.visualize.class_activation_maps import GradCAM, GradCAMpp\n",
    "\n",
    "n = 15\n",
    "plt.figure(figsize=(15, 40))\n",
    "\n",
    "test_model = feature_extractor_resnet\n",
    "test_model.to('cpu')\n",
    "gradcam = GradCAM(nn_module=test_model, target_layers='layer4.2.act3')\n",
    "\n",
    "for param in test_model.parameters():\n",
    "    param.requires_grad = True\n",
    "\n",
    "test_model.eval()\n",
    "\n",
    "for i in range(n):\n",
    "    plt.subplot(n // 3 + 1, 3, i+1)\n",
    "    image_number = np.random.randint(len(val_dataset))\n",
    "    #image_number = i*20\n",
    "    test_image = val_dataset[image_number][0].unsqueeze(0)\n",
    "    test_label = val_dataset[image_number][1]\n",
    "\n",
    "    pred = test_model(test_image).softmax(1).argmax(1).item()\n",
    "    gradcam_result = 1-gradcam(test_image)\n",
    "\n",
    "    gradcam_overlay(test_image.squeeze(0).permute(1, 2, 0).to('cpu'), gradcam_result[0].squeeze(0).cpu().numpy(), opacity=0.25)\n",
    "    plt.title(f'ID: {image_number} | True: {test_label} | Pred: {pred}')\n",
    "    plt.axis('off')"
   ]
  },
  {
   "cell_type": "code",
   "execution_count": 114,
   "metadata": {},
   "outputs": [],
   "source": [
    "test_batch = next(iter(val_dataloader))\n",
    "test_preds = models[1](test_batch[0]).softmax(1).argmax(1)\n",
    "test_labels = test_batch[1]"
   ]
  },
  {
   "cell_type": "code",
   "execution_count": 115,
   "metadata": {},
   "outputs": [
    {
     "data": {
      "text/plain": [
       "tensor([0, 0, 0, 0, 0, 0, 0, 0, 0, 0, 0, 0, 0, 0, 0, 0, 0, 0, 0, 0, 0, 0, 0, 0,\n",
       "        1, 1, 1, 1, 1, 1, 1, 1])"
      ]
     },
     "execution_count": 115,
     "metadata": {},
     "output_type": "execute_result"
    }
   ],
   "source": [
    "test_preds"
   ]
  },
  {
   "cell_type": "code",
   "execution_count": 88,
   "metadata": {},
   "outputs": [
    {
     "data": {
      "text/plain": [
       "<sklearn.metrics._plot.confusion_matrix.ConfusionMatrixDisplay at 0x180f2b5f590>"
      ]
     },
     "execution_count": 88,
     "metadata": {},
     "output_type": "execute_result"
    },
    {
     "data": {
      "image/png": "[encoded data removed]",
      "text/plain": [
       "<Figure size 640x480 with 1 Axes>"
      ]
     },
     "metadata": {},
     "output_type": "display_data"
    }
   ],
   "source": [
    "from sklearn.metrics import confusion_matrix, ConfusionMatrixDisplay\n",
    "labels = [0,1,2]\n",
    "classes = ('barcode', 'lung pulse', 'seashore')\n",
    "\n",
    "confmat = confusion_matrix(test_labels, test_preds, labels=labels)\n",
    "ConfusionMatrixDisplay(confmat, display_labels=labels).plot(cmap='Blues', colorbar=False)\n"
   ]
  },
  {
   "cell_type": "code",
   "execution_count": 108,
   "metadata": {},
   "outputs": [],
   "source": [
    "from sklearn.metrics import confusion_matrix\n",
    "import pandas as pd\n",
    "import seaborn as sn\n",
    "import numpy as np\n",
    "from matplotlib import pyplot as plt\n",
    "\n",
    "def display_confusion_matrix(true_labels, predicted_labels, class_labels):\n",
    "    cf_matrix = confusion_matrix(test_labels, test_preds)\n",
    "    \n",
    "    if cf_matrix.shape[0] < len(class_labels):\n",
    "        cf_matrix = np.pad(cf_matrix, (0, len(class_labels) - cf_matrix.shape[0]), 'constant')\n",
    "    \n",
    "    df_cm = pd.DataFrame(cf_matrix / np.sum(cf_matrix, axis=1)[:, None],\n",
    "                         index = [i for i in class_labels],\n",
    "                         columns = [i for i in class_labels])\n",
    "    plt.figure(figsize = (7,7))\n",
    "    sn.heatmap(df_cm, annot=True, cmap='Blues', cbar=False)\n",
    "    #plt.savefig('output.png')"
   ]
  },
  {
   "cell_type": "code",
   "execution_count": 1,
   "metadata": {},
   "outputs": [
    {
     "name": "stderr",
     "output_type": "stream",
     "text": [
      "c:\\Users\\szabo\\anaconda3\\envs\\lung_us\\Lib\\site-packages\\tqdm\\auto.py:21: TqdmWarning: IProgress not found. Please update jupyter and ipywidgets. See https://ipywidgets.readthedocs.io/en/stable/user_install.html\n",
      "  from .autonotebook import tqdm as notebook_tqdm\n",
      "d:\\Repos\\PTX_ensemble_classifier\\general.py:85: RuntimeWarning: invalid value encountered in scalar divide\n",
      "  sensitivity_per_class[class_id] = padded_cf_matrix[class_id, class_id] / np.sum(padded_cf_matrix[class_id, :])\n",
      "d:\\Repos\\PTX_ensemble_classifier\\general.py:86: RuntimeWarning: invalid value encountered in scalar divide\n",
      "  specificity_per_class[class_id] = padded_cf_matrix[class_id, class_id] / np.sum(padded_cf_matrix[:, class_id])\n"
     ]
    },
    {
     "data": {
      "text/plain": [
       "(array([ 1., nan, nan]), array([ 1., nan, nan]))"
      ]
     },
     "execution_count": 1,
     "metadata": {},
     "output_type": "execute_result"
    }
   ],
   "source": [
    "from general import get_metrics_from_confusion_matrix\n",
    "import torch\n",
    "\n",
    "y = torch.tensor([1,1,1,1])\n",
    "pred_y = torch.tensor([1,1,1,1])\n",
    "\n",
    "test = get_metrics_from_confusion_matrix(y, pred_y, 3)\n",
    "test"
   ]
  },
  {
   "cell_type": "code",
   "execution_count": 15,
   "metadata": {},
   "outputs": [
    {
     "data": {
      "text/plain": [
       "array([[ 1.,  2.,  3.],\n",
       "       [ 1.,  2.,  3.],\n",
       "       [nan, nan, nan]])"
      ]
     },
     "execution_count": 15,
     "metadata": {},
     "output_type": "execute_result"
    }
   ],
   "source": [
    "import numpy as np\n",
    "mat = np.array([[1, 2, 3],\n",
    "                [1,2,3],\n",
    "                [np.nan,np.nan,np.nan]])\n",
    "\n",
    "\n",
    "mat"
   ]
  },
  {
   "cell_type": "code",
   "execution_count": 33,
   "metadata": {},
   "outputs": [
    {
     "data": {
      "text/plain": [
       "tensor(1.6261)"
      ]
     },
     "execution_count": 33,
     "metadata": {},
     "output_type": "execute_result"
    }
   ],
   "source": [
    "train_dataset[0][0].max()"
   ]
  }
 ],
 "metadata": {
  "kernelspec": {
   "display_name": "base",
   "language": "python",
   "name": "python3"
  },
  "language_info": {
   "codemirror_mode": {
    "name": "ipython",
    "version": 3
   },
   "file_extension": ".py",
   "mimetype": "text/x-python",
   "name": "python",
   "nbconvert_exporter": "python",
   "pygments_lexer": "ipython3",
   "version": "3.11.5"
  },
  "orig_nbformat": 4
 },
 "nbformat": 4,
 "nbformat_minor": 2
}
